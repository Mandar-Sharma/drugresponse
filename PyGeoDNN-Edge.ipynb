{
 "cells": [
  {
   "cell_type": "code",
   "execution_count": 1,
   "metadata": {},
   "outputs": [],
   "source": [
    "# from tqdm import tqdm\n",
    "import pandas as pd\n",
    "import numpy as np\n",
    "from random import shuffle\n",
    "import pickle"
   ]
  },
  {
   "cell_type": "code",
   "execution_count": 2,
   "metadata": {},
   "outputs": [],
   "source": [
    "import torch\n",
    "from torch import optim\n",
    "from torch.autograd import Variable,gradcheck\n",
    "from torch.utils.data import DataLoader\n",
    "\n",
    "# sklearn\n",
    "from sklearn.model_selection import train_test_split\n",
    "from sklearn.preprocessing import MinMaxScaler\n",
    "from sklearn.preprocessing import StandardScaler"
   ]
  },
  {
   "cell_type": "code",
   "execution_count": 3,
   "metadata": {},
   "outputs": [],
   "source": [
    "sing = pd.read_csv('wooddata/singleton.csv')\n",
    "pair = pd.read_csv('wooddata/pair.csv')\n",
    "trip = pd.read_csv('wooddata/triplet.csv')"
   ]
  },
  {
   "cell_type": "markdown",
   "metadata": {},
   "source": [
    "## Inspection"
   ]
  },
  {
   "cell_type": "code",
   "execution_count": 4,
   "metadata": {},
   "outputs": [],
   "source": [
    "with open('embeddings', 'rb') as handle:\n",
    "    edge_vals = pickle.load(handle)\n",
    "\n",
    "x_sing = sing[['[Sal]', '[Ery]', '[Cm]', '[Tmp]', '[Ofl]', '[Dox]', '[Linc]']].values\n",
    "x_pair = pair[['[Sal]', '[Ery]', '[Cm]', '[Tmp]', '[Ofl]', '[Dox]', '[Linc]']].values\n",
    "x_trip = trip[['[Sal]', '[Ery]', '[Cm]', '[Tmp]', '[Ofl]', '[Dox]', '[Linc]']].values\n",
    "x_edge = np.array(list(edge_vals.values()))\n",
    "\n",
    "x_sing = np.concatenate((x_sing, x_edge * np.ones((x_sing.shape[0], 1))), axis=1)\n",
    "x_pair = np.concatenate((x_pair, x_edge * np.ones((x_pair.shape[0], 1))), axis=1)\n",
    "x_trip = np.concatenate((x_trip, x_edge * np.ones((x_trip.shape[0], 1))), axis=1)\n",
    "\n",
    "x = np.concatenate((x_sing, x_pair, x_trip), axis=0)\n",
    "\n",
    "y_sing = sing['g'].values\n",
    "y_pair = pair['g'].values\n",
    "y_trip = trip['g'].values\n",
    "y = np.concatenate((y_sing, y_pair, y_trip), axis=0)"
   ]
  },
  {
   "cell_type": "code",
   "execution_count": 5,
   "metadata": {},
   "outputs": [],
   "source": [
    "with open('embeddings', 'rb') as handle:\n",
    "    edge_vals = pickle.load(handle)"
   ]
  },
  {
   "cell_type": "code",
   "execution_count": 6,
   "metadata": {},
   "outputs": [
    {
     "data": {
      "text/plain": [
       "(2336, 292, 292)"
      ]
     },
     "execution_count": 6,
     "metadata": {},
     "output_type": "execute_result"
    }
   ],
   "source": [
    "from DNN import DNN\n",
    "\n",
    "# split dataset\n",
    "X_train, X_test, y_train, y_test = train_test_split(x, y, test_size=0.20)\n",
    "X_val, X_test, y_val, y_test = train_test_split(X_test, y_test, test_size=0.50)\n",
    "\n",
    "len(X_train), len(X_val), len(X_test)"
   ]
  },
  {
   "cell_type": "code",
   "execution_count": 7,
   "metadata": {},
   "outputs": [],
   "source": [
    "# normalize on training set and apply to test set\n",
    "std_scaler_x = StandardScaler()\n",
    "std_scaler_y = StandardScaler()\n",
    "\n",
    "# fit and transform on training set\n",
    "X_train = std_scaler_x.fit_transform(X_train)\n",
    "y_train = std_scaler_y.fit_transform(\n",
    "    y_train[:, np.newaxis]\n",
    ").ravel()\n",
    "\n",
    "# apply transformation on validation set\n",
    "X_val = std_scaler_x.transform(X_val)\n",
    "y_val = std_scaler_y.transform(\n",
    "    y_val[:, np.newaxis]\n",
    ").ravel()\n",
    "\n",
    "# apply transformation on test set\n",
    "X_test = std_scaler_x.transform(X_test)\n",
    "y_test = std_scaler_y.transform(\n",
    "    y_test[:, np.newaxis]\n",
    ").ravel()"
   ]
  },
  {
   "cell_type": "code",
   "execution_count": 8,
   "metadata": {},
   "outputs": [
    {
     "name": "stdout",
     "output_type": "stream",
     "text": [
      "CPU times: user 2.49 s, sys: 895 ms, total: 3.39 s\n",
      "Wall time: 3.39 s\n"
     ]
    }
   ],
   "source": [
    "%%time\n",
    "# CUDA support \n",
    "if torch.cuda.is_available():\n",
    "    device = torch.device('cuda')\n",
    "else:\n",
    "    device = torch.device('cpu')\n",
    "\n",
    "# model settings\n",
    "D_in  = X_train.shape[1]\n",
    "D_out = 1\n",
    "H = 50\n",
    "Depth = 5\n",
    "NUMEPOCHS = 500\n",
    "Batch_size = 100\n",
    "\n",
    "model = DNN(\n",
    "    input_size=D_in,\n",
    "    output_size=D_out,\n",
    "    hidden_size=H,\n",
    "    depth=Depth\n",
    ").to(device)\n",
    "\n",
    "# Loss Function\n",
    "criterion = torch.nn.MSELoss()\n",
    "\n",
    "# Optimizer\n",
    "optimizer = optim.Adamax(model.parameters())"
   ]
  },
  {
   "cell_type": "code",
   "execution_count": 9,
   "metadata": {},
   "outputs": [
    {
     "name": "stdout",
     "output_type": "stream",
     "text": [
      "torch.Size([2336, 56])\n",
      "torch.Size([2336])\n",
      "torch.Size([292, 56])\n",
      "torch.Size([292])\n"
     ]
    }
   ],
   "source": [
    "# Input Data\n",
    "trainX = Variable(torch.from_numpy(X_train).float())\n",
    "trainY = Variable(torch.from_numpy(y_train).float())\n",
    "testX = Variable(torch.from_numpy(X_test).float())\n",
    "testY = Variable(torch.from_numpy(y_test).float())\n",
    "\n",
    "print(trainX.shape)\n",
    "print(trainY.shape)\n",
    "print(testX.shape)\n",
    "print(testY.shape)\n",
    "\n",
    "# For Supervising Losses\n",
    "losses = list()\n",
    "\n",
    "if torch.cuda.is_available():\n",
    "    trainX = trainX.to(device)\n",
    "    trainY = trainY.to(device)\n",
    "    testX = testX.to(device)\n",
    "    testY = testY.to(device)\n",
    "    \n",
    "data_train_loader = DataLoader(\n",
    "    list(zip(trainX,trainY)), \n",
    "    batch_size=Batch_size, \n",
    "    shuffle=True\n",
    ")"
   ]
  },
  {
   "cell_type": "code",
   "execution_count": 10,
   "metadata": {},
   "outputs": [
    {
     "name": "stdout",
     "output_type": "stream",
     "text": [
      "Epochs\n",
      "0, tensor(0.3288, device='cuda:0', grad_fn=<MseLossBackward>)\n",
      "50, tensor(0.0550, device='cuda:0', grad_fn=<MseLossBackward>)\n",
      "100, tensor(0.0730, device='cuda:0', grad_fn=<MseLossBackward>)\n",
      "150, tensor(0.0860, device='cuda:0', grad_fn=<MseLossBackward>)\n",
      "200, tensor(0.0850, device='cuda:0', grad_fn=<MseLossBackward>)\n",
      "250, tensor(0.1124, device='cuda:0', grad_fn=<MseLossBackward>)\n",
      "300, tensor(0.0557, device='cuda:0', grad_fn=<MseLossBackward>)\n",
      "350, tensor(0.0874, device='cuda:0', grad_fn=<MseLossBackward>)\n",
      "400, tensor(0.0591, device='cuda:0', grad_fn=<MseLossBackward>)\n",
      "450, tensor(0.0405, device='cuda:0', grad_fn=<MseLossBackward>)\n",
      "\n",
      "Training Complete\n"
     ]
    }
   ],
   "source": [
    "# Train the model\n",
    "\n",
    "print(\"Epochs\")\n",
    "for epoch in range(NUMEPOCHS):\n",
    "    for batchX, batchY in data_train_loader: \n",
    "        # Forward pass\n",
    "        outputs = model(batchX)\n",
    "        loss = criterion(outputs.squeeze(), batchY)\n",
    "        \n",
    "        # Backward and optimize\n",
    "        optimizer.zero_grad()\n",
    "        loss.backward()     \n",
    "        optimizer.step()\n",
    "        losses.append(loss)\n",
    "        \n",
    "    # Print Epochs and Losses to Monitor Convergence\n",
    "    if epoch % 50 == 0:\n",
    "        print(\"{}\".format(epoch),end = \", \")\n",
    "        print(loss)\n",
    "        \n",
    "print('\\nTraining Complete')"
   ]
  },
  {
   "cell_type": "code",
   "execution_count": 11,
   "metadata": {},
   "outputs": [],
   "source": [
    "pred = model(testX)"
   ]
  },
  {
   "cell_type": "code",
   "execution_count": 12,
   "metadata": {},
   "outputs": [],
   "source": [
    "predictions = pred.detach().cpu().numpy().ravel()\n",
    "testvals = testY.cpu().numpy()"
   ]
  },
  {
   "cell_type": "code",
   "execution_count": 13,
   "metadata": {},
   "outputs": [
    {
     "name": "stdout",
     "output_type": "stream",
     "text": [
      "Test MSE =  0.0020532282\n"
     ]
    }
   ],
   "source": [
    "predictions = std_scaler_y.inverse_transform(predictions[:, np.newaxis]).ravel()\n",
    "testvals = std_scaler_y.inverse_transform(testvals[:, np.newaxis]).ravel()\n",
    "mse = np.mean((predictions - testvals) ** 2)\n",
    "print('Test MSE = ', mse)"
   ]
  },
  {
   "cell_type": "code",
   "execution_count": 14,
   "metadata": {},
   "outputs": [
    {
     "data": {
      "text/plain": [
       "(292,)"
      ]
     },
     "execution_count": 14,
     "metadata": {},
     "output_type": "execute_result"
    }
   ],
   "source": [
    "predictions.shape"
   ]
  },
  {
   "cell_type": "code",
   "execution_count": 15,
   "metadata": {},
   "outputs": [],
   "source": [
    "import matplotlib.pyplot as plt\n",
    "import seaborn as sns\n",
    "\n",
    "y_all = pd.DataFrame({\n",
    "    'pred': predictions,\n",
    "    'true': testvals\n",
    "})\n",
    "\n",
    "y_all = y_all.sort_values(by=['true']).reset_index()[['pred', 'true']]"
   ]
  },
  {
   "cell_type": "code",
   "execution_count": 16,
   "metadata": {},
   "outputs": [
    {
     "data": {
      "image/png": "[encoded data removed]",
      "text/plain": [
       "<Figure size 432x288 with 1 Axes>"
      ]
     },
     "metadata": {
      "needs_background": "light"
     },
     "output_type": "display_data"
    }
   ],
   "source": [
    "sns.lineplot(data=y_all)\n",
    "plt.legend()\n",
    "plt.show()"
   ]
  },
  {
   "cell_type": "code",
   "execution_count": 18,
   "metadata": {},
   "outputs": [
    {
     "name": "stdout",
     "output_type": "stream",
     "text": [
      "15.725088%\n"
     ]
    }
   ],
   "source": [
    "print('%f%%' % ((0.0024363457 - 0.0020532282) / 0.0024363457 * 100))"
   ]
  }
 ],
 "metadata": {
  "kernelspec": {
   "display_name": "Python 3",
   "language": "python",
   "name": "python3"
  },
  "language_info": {
   "codemirror_mode": {
    "name": "ipython",
    "version": 3
   },
   "file_extension": ".py",
   "mimetype": "text/x-python",
   "name": "python",
   "nbconvert_exporter": "python",
   "pygments_lexer": "ipython3",
   "version": "3.6.7"
  }
 },
 "nbformat": 4,
 "nbformat_minor": 2
}
