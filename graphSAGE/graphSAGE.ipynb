{
 "cells": [
  {
   "cell_type": "code",
   "execution_count": 1,
   "metadata": {},
   "outputs": [
    {
     "name": "stderr",
     "output_type": "stream",
     "text": [
      "Using TensorFlow backend.\n",
      "/home/mandarsharma/cpu/lib/python3.6/site-packages/tensorflow/python/framework/dtypes.py:516: FutureWarning: Passing (type, 1) or '1type' as a synonym of type is deprecated; in a future version of numpy, it will be understood as (type, (1,)) / '(1,)type'.\n",
      "  _np_qint8 = np.dtype([(\"qint8\", np.int8, 1)])\n",
      "/home/mandarsharma/cpu/lib/python3.6/site-packages/tensorflow/python/framework/dtypes.py:517: FutureWarning: Passing (type, 1) or '1type' as a synonym of type is deprecated; in a future version of numpy, it will be understood as (type, (1,)) / '(1,)type'.\n",
      "  _np_quint8 = np.dtype([(\"quint8\", np.uint8, 1)])\n",
      "/home/mandarsharma/cpu/lib/python3.6/site-packages/tensorflow/python/framework/dtypes.py:518: FutureWarning: Passing (type, 1) or '1type' as a synonym of type is deprecated; in a future version of numpy, it will be understood as (type, (1,)) / '(1,)type'.\n",
      "  _np_qint16 = np.dtype([(\"qint16\", np.int16, 1)])\n",
      "/home/mandarsharma/cpu/lib/python3.6/site-packages/tensorflow/python/framework/dtypes.py:519: FutureWarning: Passing (type, 1) or '1type' as a synonym of type is deprecated; in a future version of numpy, it will be understood as (type, (1,)) / '(1,)type'.\n",
      "  _np_quint16 = np.dtype([(\"quint16\", np.uint16, 1)])\n",
      "/home/mandarsharma/cpu/lib/python3.6/site-packages/tensorflow/python/framework/dtypes.py:520: FutureWarning: Passing (type, 1) or '1type' as a synonym of type is deprecated; in a future version of numpy, it will be understood as (type, (1,)) / '(1,)type'.\n",
      "  _np_qint32 = np.dtype([(\"qint32\", np.int32, 1)])\n",
      "/home/mandarsharma/cpu/lib/python3.6/site-packages/tensorflow/python/framework/dtypes.py:525: FutureWarning: Passing (type, 1) or '1type' as a synonym of type is deprecated; in a future version of numpy, it will be understood as (type, (1,)) / '(1,)type'.\n",
      "  np_resource = np.dtype([(\"resource\", np.ubyte, 1)])\n",
      "/home/mandarsharma/cpu/lib/python3.6/site-packages/tensorboard/compat/tensorflow_stub/dtypes.py:541: FutureWarning: Passing (type, 1) or '1type' as a synonym of type is deprecated; in a future version of numpy, it will be understood as (type, (1,)) / '(1,)type'.\n",
      "  _np_qint8 = np.dtype([(\"qint8\", np.int8, 1)])\n",
      "/home/mandarsharma/cpu/lib/python3.6/site-packages/tensorboard/compat/tensorflow_stub/dtypes.py:542: FutureWarning: Passing (type, 1) or '1type' as a synonym of type is deprecated; in a future version of numpy, it will be understood as (type, (1,)) / '(1,)type'.\n",
      "  _np_quint8 = np.dtype([(\"quint8\", np.uint8, 1)])\n",
      "/home/mandarsharma/cpu/lib/python3.6/site-packages/tensorboard/compat/tensorflow_stub/dtypes.py:543: FutureWarning: Passing (type, 1) or '1type' as a synonym of type is deprecated; in a future version of numpy, it will be understood as (type, (1,)) / '(1,)type'.\n",
      "  _np_qint16 = np.dtype([(\"qint16\", np.int16, 1)])\n",
      "/home/mandarsharma/cpu/lib/python3.6/site-packages/tensorboard/compat/tensorflow_stub/dtypes.py:544: FutureWarning: Passing (type, 1) or '1type' as a synonym of type is deprecated; in a future version of numpy, it will be understood as (type, (1,)) / '(1,)type'.\n",
      "  _np_quint16 = np.dtype([(\"quint16\", np.uint16, 1)])\n",
      "/home/mandarsharma/cpu/lib/python3.6/site-packages/tensorboard/compat/tensorflow_stub/dtypes.py:545: FutureWarning: Passing (type, 1) or '1type' as a synonym of type is deprecated; in a future version of numpy, it will be understood as (type, (1,)) / '(1,)type'.\n",
      "  _np_qint32 = np.dtype([(\"qint32\", np.int32, 1)])\n",
      "/home/mandarsharma/cpu/lib/python3.6/site-packages/tensorboard/compat/tensorflow_stub/dtypes.py:550: FutureWarning: Passing (type, 1) or '1type' as a synonym of type is deprecated; in a future version of numpy, it will be understood as (type, (1,)) / '(1,)type'.\n",
      "  np_resource = np.dtype([(\"resource\", np.ubyte, 1)])\n"
     ]
    }
   ],
   "source": [
    "import networkx as nx\n",
    "import pandas as pd\n",
    "import numpy as np\n",
    "import os\n",
    "import random\n",
    "\n",
    "import stellargraph as sg\n",
    "from stellargraph.data import EdgeSplitter\n",
    "from stellargraph.mapper import GraphSAGELinkGenerator\n",
    "from stellargraph.layer import GraphSAGE, link_classification\n",
    "from stellargraph.data import UniformRandomWalk\n",
    "from stellargraph.data import UnsupervisedSampler\n",
    "from sklearn.model_selection import train_test_split\n",
    "\n",
    "import keras \n",
    "from sklearn import preprocessing, feature_extraction, model_selection\n",
    "from sklearn.linear_model import LogisticRegressionCV, LogisticRegression\n",
    "from sklearn.metrics import accuracy_score\n",
    "\n",
    "from stellargraph import globalvar"
   ]
  },
  {
   "cell_type": "code",
   "execution_count": 2,
   "metadata": {},
   "outputs": [],
   "source": [
    "data_dir = ''"
   ]
  },
  {
   "cell_type": "code",
   "execution_count": 3,
   "metadata": {},
   "outputs": [],
   "source": [
    "edgelist = pd.read_csv(os.path.join(data_dir, \"ppi.cites\"), sep='\\t', header=None, names=[\"source\", \"target\"])\n",
    "edgelist[\"label\"] = \"cites\"  # set the edge type"
   ]
  },
  {
   "cell_type": "code",
   "execution_count": null,
   "metadata": {},
   "outputs": [],
   "source": [
    "print(edgelist)"
   ]
  },
  {
   "cell_type": "code",
   "execution_count": 4,
   "metadata": {},
   "outputs": [],
   "source": [
    "Gnx = nx.from_pandas_edgelist(edgelist, edge_attr=\"label\")"
   ]
  },
  {
   "cell_type": "code",
   "execution_count": 5,
   "metadata": {},
   "outputs": [],
   "source": [
    "nx.set_node_attributes(Gnx, \"paper\", \"label\")"
   ]
  },
  {
   "cell_type": "code",
   "execution_count": null,
   "metadata": {},
   "outputs": [],
   "source": [
    "import matplotlib.pyplot as plt\n",
    "nx.draw(Gnx)\n",
    "plt.show()"
   ]
  },
  {
   "cell_type": "code",
   "execution_count": 6,
   "metadata": {},
   "outputs": [],
   "source": [
    "feature_names = [\"w_{}\".format(ii) for ii in range(4132)]\n",
    "column_names = feature_names + [\"subject\"]\n",
    "node_data = pd.read_csv(os.path.join(data_dir, \"ppi.content\"), sep='\\t', header=None, names=column_names)"
   ]
  },
  {
   "cell_type": "code",
   "execution_count": null,
   "metadata": {},
   "outputs": [],
   "source": [
    "print(node_data)"
   ]
  },
  {
   "cell_type": "code",
   "execution_count": 7,
   "metadata": {},
   "outputs": [],
   "source": [
    "node_features = node_data[feature_names]"
   ]
  },
  {
   "cell_type": "code",
   "execution_count": null,
   "metadata": {},
   "outputs": [],
   "source": [
    "print(node_features)"
   ]
  },
  {
   "cell_type": "code",
   "execution_count": 8,
   "metadata": {},
   "outputs": [],
   "source": [
    "G = sg.StellarGraph(Gnx, node_features=node_features)"
   ]
  },
  {
   "cell_type": "code",
   "execution_count": null,
   "metadata": {},
   "outputs": [],
   "source": [
    "print(G.info())"
   ]
  },
  {
   "cell_type": "code",
   "execution_count": 51,
   "metadata": {},
   "outputs": [],
   "source": [
    "nodes = list(G.nodes())\n",
    "number_of_walks = 1\n",
    "length = 3"
   ]
  },
  {
   "cell_type": "code",
   "execution_count": 52,
   "metadata": {},
   "outputs": [],
   "source": [
    "unsupervised_samples = UnsupervisedSampler(G, nodes=nodes, length=length, number_of_walks=number_of_walks)"
   ]
  },
  {
   "cell_type": "code",
   "execution_count": 53,
   "metadata": {},
   "outputs": [],
   "source": [
    "batch_size = 50\n",
    "epochs = 5\n",
    "num_samples = [10, 5]"
   ]
  },
  {
   "cell_type": "code",
   "execution_count": 54,
   "metadata": {},
   "outputs": [
    {
     "name": "stdout",
     "output_type": "stream",
     "text": [
      "Running GraphSAGELinkGenerator with an estimated 496 batches generated on the fly per epoch.\n"
     ]
    }
   ],
   "source": [
    "train_gen = GraphSAGELinkGenerator(G, batch_size, num_samples).flow(unsupervised_samples)"
   ]
  },
  {
   "cell_type": "code",
   "execution_count": 55,
   "metadata": {},
   "outputs": [],
   "source": [
    "layer_sizes = [50, 50]\n",
    "assert len(layer_sizes) == len(num_samples)\n",
    "\n",
    "graphsage = GraphSAGE(\n",
    "        layer_sizes=layer_sizes, generator=train_gen, bias=True, dropout=0.0, normalize=\"l2\"\n",
    "    )"
   ]
  },
  {
   "cell_type": "code",
   "execution_count": 56,
   "metadata": {},
   "outputs": [],
   "source": [
    "# Build the model and expose input and output sockets of graphsage, for node pair inputs:\n",
    "x_inp, x_out = graphsage.build(flatten_output=False)"
   ]
  },
  {
   "cell_type": "code",
   "execution_count": null,
   "metadata": {},
   "outputs": [],
   "source": []
  },
  {
   "cell_type": "code",
   "execution_count": 57,
   "metadata": {},
   "outputs": [
    {
     "name": "stdout",
     "output_type": "stream",
     "text": [
      "link_classification: using 'ip' method to combine node embeddings into edge embeddings\n"
     ]
    }
   ],
   "source": [
    "#sigmoid\n",
    "prediction = link_classification(\n",
    "        output_dim=1, output_act=\"sigmoid\", edge_embedding_method='ip'\n",
    "    )(x_out)"
   ]
  },
  {
   "cell_type": "code",
   "execution_count": 58,
   "metadata": {},
   "outputs": [],
   "source": [
    "model = keras.Model(inputs=x_inp, outputs=prediction)\n",
    "\n",
    "model.compile(\n",
    "        optimizer=keras.optimizers.Adam(lr=1e-1), #1e-3\n",
    "        loss=keras.losses.binary_crossentropy,\n",
    "        metrics=[keras.metrics.binary_accuracy],\n",
    "    )"
   ]
  },
  {
   "cell_type": "code",
   "execution_count": 59,
   "metadata": {},
   "outputs": [
    {
     "name": "stdout",
     "output_type": "stream",
     "text": [
      "Epoch 1/5\n",
      "496/496 [==============================] - 222s 448ms/step - loss: 0.5957 - binary_accuracy: 0.7000\n",
      "Epoch 2/5\n",
      "495/496 [============================>.] - ETA: 0s - loss: 0.5332 - binary_accuracy: 0.7914Epoch 2/5\n",
      "496/496 [==============================] - 221s 446ms/step - loss: 0.5329 - binary_accuracy: 0.7918\n",
      "Epoch 3/5\n",
      "496/496 [==============================] - 222s 447ms/step - loss: 0.4348 - binary_accuracy: 0.9164\n",
      "Epoch 4/5\n",
      "496/496 [==============================] - 222s 447ms/step - loss: 0.3933 - binary_accuracy: 0.9533\n",
      "Epoch 5/5\n",
      "495/496 [============================>.] - ETA: 0s - loss: 0.3741 - binary_accuracy: 0.9678Epoch 5/5\n",
      "496/496 [==============================] - 221s 446ms/step - loss: 0.3741 - binary_accuracy: 0.9679\n"
     ]
    }
   ],
   "source": [
    "\n",
    "history = model.fit_generator(\n",
    "        train_gen,\n",
    "        epochs=epochs,\n",
    "        verbose=1,\n",
    "        use_multiprocessing=True,\n",
    "        workers=4,\n",
    "        shuffle=True,\n",
    "    )"
   ]
  },
  {
   "cell_type": "code",
   "execution_count": 60,
   "metadata": {},
   "outputs": [],
   "source": [
    "model.save('graphsage-5epoch.h5')"
   ]
  },
  {
   "cell_type": "code",
   "execution_count": 69,
   "metadata": {},
   "outputs": [
    {
     "name": "stdout",
     "output_type": "stream",
     "text": [
      "[<tf.Tensor 'input_31:0' shape=(?, 1, 4132) dtype=float32>, <tf.Tensor 'input_34:0' shape=(?, 1, 4132) dtype=float32>, <tf.Tensor 'input_32:0' shape=(?, 10, 4132) dtype=float32>, <tf.Tensor 'input_35:0' shape=(?, 10, 4132) dtype=float32>, <tf.Tensor 'input_33:0' shape=(?, 50, 4132) dtype=float32>, <tf.Tensor 'input_36:0' shape=(?, 50, 4132) dtype=float32>]\n",
      "[<tf.Tensor 'input_31:0' shape=(?, 1, 4132) dtype=float32>, <tf.Tensor 'input_32:0' shape=(?, 10, 4132) dtype=float32>, <tf.Tensor 'input_33:0' shape=(?, 50, 4132) dtype=float32>]\n"
     ]
    }
   ],
   "source": [
    "print(x_inp)\n",
    "print(x_inp[0::2])"
   ]
  },
  {
   "cell_type": "code",
   "execution_count": 70,
   "metadata": {},
   "outputs": [],
   "source": [
    "from sklearn.decomposition import PCA\n",
    "from sklearn.manifold import TSNE\n",
    "from stellargraph.mapper import GraphSAGENodeGenerator\n",
    "import pandas as pd\n",
    "import numpy as np\n",
    "import matplotlib.pyplot as plt\n",
    "\n",
    "%matplotlib inline"
   ]
  },
  {
   "cell_type": "code",
   "execution_count": 71,
   "metadata": {},
   "outputs": [],
   "source": [
    "x_inp_src = x_inp[0::2]\n",
    "x_out_src = x_out[0]\n",
    "embedding_model = keras.Model(inputs=x_inp_src, outputs=x_out_src)"
   ]
  },
  {
   "cell_type": "code",
   "execution_count": 72,
   "metadata": {},
   "outputs": [],
   "source": [
    "node_ids = node_data.index\n",
    "node_gen = GraphSAGENodeGenerator(G, batch_size, num_samples).flow(node_ids)"
   ]
  },
  {
   "cell_type": "code",
   "execution_count": 73,
   "metadata": {},
   "outputs": [
    {
     "name": "stdout",
     "output_type": "stream",
     "text": [
      "83/83 [==============================] - 7s 87ms/step\n"
     ]
    }
   ],
   "source": [
    "emb = embedding_model.predict_generator(node_gen, workers=4, verbose=1)\n",
    "node_embeddings = emb[:,0,:]"
   ]
  },
  {
   "cell_type": "code",
   "execution_count": 74,
   "metadata": {},
   "outputs": [],
   "source": [
    "node_subject = node_data[\"subject\"].astype('category').cat.codes\n",
    "\n",
    "X = node_embeddings\n",
    "if X.shape[1] > 2:\n",
    "    transform = TSNE #PCA \n",
    "\n",
    "    trans = transform(n_components=2)\n",
    "    emb_transformed = pd.DataFrame(trans.fit_transform(X), index=node_ids)\n",
    "    emb_transformed['label'] = node_subject\n",
    "else:\n",
    "    emb_transformed = pd.DataFrame(X, index=node_ids)\n",
    "    emb_transformed = emb_transformed.rename(columns = {'0':0, '1':1})\n",
    "    emb_transformed['label'] =  node_subject"
   ]
  },
  {
   "cell_type": "code",
   "execution_count": 75,
   "metadata": {},
   "outputs": [
    {
     "data": {
      "image/png": "[encoded data removed]",
      "text/plain": [
       "<Figure size 504x504 with 1 Axes>"
      ]
     },
     "metadata": {
      "needs_background": "light"
     },
     "output_type": "display_data"
    }
   ],
   "source": [
    "alpha = 0.7\n",
    "\n",
    "fig, ax = plt.subplots(figsize=(7,7))\n",
    "ax.scatter(emb_transformed[0], emb_transformed[1], c=emb_transformed['label'].astype(\"category\"), \n",
    "            cmap=\"jet\", alpha=alpha)\n",
    "ax.set(aspect=\"equal\", xlabel=\"$X_1$\", ylabel=\"$X_2$\")\n",
    "plt.title('{} visualization of GraphSAGE embeddings for cora dataset'.format(transform.__name__))\n",
    "plt.show()"
   ]
  },
  {
   "cell_type": "code",
   "execution_count": 76,
   "metadata": {},
   "outputs": [],
   "source": [
    "X = node_embeddings"
   ]
  },
  {
   "cell_type": "code",
   "execution_count": 77,
   "metadata": {},
   "outputs": [
    {
     "name": "stdout",
     "output_type": "stream",
     "text": [
      "(4132, 50)\n"
     ]
    }
   ],
   "source": [
    "print(X.shape)"
   ]
  },
  {
   "cell_type": "code",
   "execution_count": 78,
   "metadata": {},
   "outputs": [],
   "source": [
    "drug_embeddings = X[4125:, :]"
   ]
  },
  {
   "cell_type": "code",
   "execution_count": 79,
   "metadata": {},
   "outputs": [
    {
     "name": "stdout",
     "output_type": "stream",
     "text": [
      "[[ 0.04670145 -0.05842644 -0.03429909  0.00609841 -0.06592118  0.05502038\n",
      "  -0.03282627 -0.06173103 -0.04794145  0.02562666 -0.03862701 -0.01021498\n",
      "   0.02628589 -0.0588074  -0.06709635 -0.03921317 -0.03697556 -0.03175336\n",
      "   0.0020394  -0.0546196   0.04219823 -0.0352527   0.0551776   0.05216283\n",
      "   0.00064208  0.2138061   0.22956808  0.16836204 -0.21695514 -0.16271266\n",
      "  -0.19574536  0.20776595  0.210413    0.15866625  0.20117863 -0.18943195\n",
      "   0.15160595  0.12428918  0.18771245 -0.18090898 -0.22420888  0.22617659\n",
      "  -0.154436    0.20435771  0.23441836  0.15489191  0.21283147  0.22091568\n",
      "  -0.20529889 -0.189255  ]\n",
      " [-0.20337671  0.18664055  0.14798868  0.03151816  0.21050027 -0.22887205\n",
      "   0.18992868  0.21492204  0.14423817 -0.05152077  0.0755103   0.1162711\n",
      "  -0.16739546  0.18973568  0.26650232  0.08847987  0.20147535  0.04305613\n",
      "   0.04060147  0.23822093 -0.21307105  0.12459964 -0.24681345 -0.22785847\n",
      "   0.02056557  0.11286838  0.12513174  0.08485235 -0.11377347 -0.08132929\n",
      "  -0.10514463  0.10766291  0.114297    0.07955658  0.10325082 -0.09678708\n",
      "   0.07582091  0.06167464  0.09885946 -0.09378101 -0.11940893  0.1210241\n",
      "  -0.07726388  0.10701572  0.12869927  0.07804578  0.1115288   0.11649015\n",
      "  -0.10570345 -0.09931225]\n",
      " [ 0.09841748 -0.0855858  -0.07523022 -0.03642516 -0.10042426  0.12237331\n",
      "  -0.1259799  -0.10867    -0.06074325  0.00914582 -0.01554864 -0.08348277\n",
      "   0.10307527 -0.09269128 -0.14106463 -0.02351411 -0.11657331  0.00341991\n",
      "  -0.04205263 -0.13564423  0.12400448 -0.05201216  0.14227414  0.13003014\n",
      "  -0.02721351  0.1954033   0.22209999  0.14440094 -0.19531515 -0.13701373\n",
      "  -0.1798624   0.18433073  0.20193361  0.13697174  0.17575076 -0.16447546\n",
      "   0.12982057  0.10959861  0.17321892 -0.16261902 -0.20917682  0.20876664\n",
      "  -0.13195902  0.18450342  0.22570997  0.13546056  0.19246359  0.20164427\n",
      "  -0.1799054  -0.17408635]\n",
      " [ 0.20391291 -0.18283215 -0.14727907 -0.07367928 -0.21538779  0.26178324\n",
      "  -0.2550923  -0.2319473  -0.12979677  0.01921332 -0.04317078 -0.16883259\n",
      "   0.20994677 -0.19485103 -0.30248696 -0.05761531 -0.23801102 -0.00220085\n",
      "  -0.08139967 -0.29127645  0.26187417 -0.11087025  0.2975933   0.27548274\n",
      "  -0.05154166  0.04644157  0.0510024   0.03450431 -0.04671947 -0.03319773\n",
      "  -0.04234996  0.0441208   0.04709628  0.03237627  0.04255215 -0.03963945\n",
      "   0.03069849  0.02493672  0.03939335 -0.03774133 -0.04894758  0.04954445\n",
      "  -0.03146287  0.04349603  0.05249351  0.03162532  0.0458725   0.04769878\n",
      "  -0.04349286 -0.04010469]\n",
      " [ 0.15693842 -0.14983667 -0.11387552 -0.00259771 -0.16469581  0.16337197\n",
      "  -0.11334044 -0.16094364 -0.120431    0.05560804 -0.0810581  -0.05967379\n",
      "   0.10650023 -0.14769389 -0.19058071 -0.08749511 -0.13750818 -0.05943597\n",
      "  -0.00983448 -0.15947741  0.14043143 -0.10279991  0.16689055  0.15309061\n",
      "  -0.0021594   0.1734636   0.19662784  0.12822533 -0.17327788 -0.12214618\n",
      "  -0.15865876  0.16376978  0.17753026  0.12082598  0.15678336 -0.14616592\n",
      "   0.11470238  0.09518716  0.15192938 -0.14334242 -0.18577336  0.18396835\n",
      "  -0.11690397  0.16332999  0.19903606  0.11930756  0.1709083   0.17865771\n",
      "  -0.1605656  -0.15319674]\n",
      " [ 0.16758135 -0.15038593 -0.12429462 -0.02980195 -0.17123546  0.18743865\n",
      "  -0.15741797 -0.1749614  -0.11550067  0.03892663 -0.05968409 -0.09821772\n",
      "   0.13969897 -0.1539635  -0.21866456 -0.06918453 -0.16736503 -0.03297264\n",
      "  -0.03695472 -0.1968874   0.1764069  -0.10283406  0.2032004   0.18777007\n",
      "  -0.02101238  0.15633883  0.17708723  0.11664852 -0.15676261 -0.11091143\n",
      "  -0.144492    0.14794132  0.16107401  0.10929123  0.14190781 -0.13282731\n",
      "   0.1036205   0.08533111  0.13750778 -0.1299111  -0.16682664  0.16746593\n",
      "  -0.10581098  0.14814974  0.18008552  0.10751446  0.15377776  0.16103888\n",
      "  -0.14542624 -0.13803883]\n",
      " [-0.06913276  0.06183342  0.04474792  0.03951545  0.0706597  -0.09837195\n",
      "   0.10989255  0.08280693  0.04063043  0.00257275  0.00173382  0.08079612\n",
      "  -0.08892471  0.06686687  0.11206296  0.01004243  0.09531556 -0.01676174\n",
      "   0.04270609  0.1131264  -0.10886914  0.02849675 -0.11649063 -0.10971368\n",
      "   0.02600474  0.20700058  0.23852636  0.14645982 -0.204304   -0.13886818\n",
      "  -0.19004646  0.19178021  0.21476203  0.13890822  0.18268012 -0.16916321\n",
      "   0.13109043  0.10959159  0.17997763 -0.1678195  -0.22307697  0.22121584\n",
      "  -0.13325769  0.19348088  0.24232034  0.13740222  0.20295608  0.21303459\n",
      "  -0.18746394 -0.18051878]]\n"
     ]
    }
   ],
   "source": [
    "print(drug_embeddings)"
   ]
  },
  {
   "cell_type": "code",
   "execution_count": null,
   "metadata": {},
   "outputs": [],
   "source": []
  },
  {
   "cell_type": "code",
   "execution_count": 80,
   "metadata": {},
   "outputs": [],
   "source": [
    "node_ids = node_ids.values[4125:]"
   ]
  },
  {
   "cell_type": "code",
   "execution_count": 81,
   "metadata": {},
   "outputs": [],
   "source": [
    "node_subject = node_data[\"subject\"].astype('category').cat.codes\n",
    "\n",
    "X = drug_embeddings\n",
    "if X.shape[1] > 2:\n",
    "    transform = TSNE #PCA \n",
    "\n",
    "    trans = transform(n_components=2)\n",
    "    emb_transformed = pd.DataFrame(trans.fit_transform(X), index=node_ids)\n",
    "    emb_transformed['label'] = node_subject\n",
    "else:\n",
    "    emb_transformed = pd.DataFrame(X, index=node_ids)\n",
    "    emb_transformed = emb_transformed.rename(columns = {'0':0, '1':1})\n",
    "    emb_transformed['label'] =  node_subject"
   ]
  },
  {
   "cell_type": "code",
   "execution_count": 82,
   "metadata": {},
   "outputs": [
    {
     "data": {
      "image/png": "[encoded data removed]",
      "text/plain": [
       "<Figure size 504x504 with 1 Axes>"
      ]
     },
     "metadata": {
      "needs_background": "light"
     },
     "output_type": "display_data"
    }
   ],
   "source": [
    "alpha = 0.7\n",
    "\n",
    "fig, ax = plt.subplots(figsize=(7,7))\n",
    "ax.scatter(emb_transformed[0], emb_transformed[1], c=emb_transformed['label'].astype(\"category\"), \n",
    "            cmap=\"jet\", alpha=alpha)\n",
    "ax.set(aspect=\"equal\", xlabel=\"$X_1$\", ylabel=\"$X_2$\")\n",
    "plt.title('{} visualization of GraphSAGE embeddings for drug dataset'.format(transform.__name__))\n",
    "plt.show()"
   ]
  },
  {
   "cell_type": "code",
   "execution_count": null,
   "metadata": {},
   "outputs": [],
   "source": [
    "print(drug_embeddings.shape)"
   ]
  },
  {
   "cell_type": "code",
   "execution_count": null,
   "metadata": {},
   "outputs": [],
   "source": [
    "#DOT PRODUCT\n",
    "edge_list = {}\n",
    "for i in range(len(drug_embeddings)):\n",
    "    for j in range(len(drug_embeddings)):\n",
    "        edge_list[(i, j)] = np.dot(drug_embeddings[i], drug_embeddings[j])"
   ]
  },
  {
   "cell_type": "code",
   "execution_count": null,
   "metadata": {},
   "outputs": [],
   "source": [
    "#HADAMARD PRODUCT\n",
    "edge_list = {}\n",
    "for i in range(len(drug_embeddings)):\n",
    "    for j in range(len(drug_embeddings)):\n",
    "        edge_list[(i, j)] = np.multiply(drug_embeddings[i], drug_embeddings[j]).tolist()"
   ]
  },
  {
   "cell_type": "code",
   "execution_count": null,
   "metadata": {},
   "outputs": [],
   "source": [
    "print(edge_list)\n",
    "# low_ = 1\n",
    "# for k in edge_list.keys():\n",
    "#     if edge_list[k] < low_:\n",
    "#         low_ = edge_list[k]"
   ]
  },
  {
   "cell_type": "code",
   "execution_count": null,
   "metadata": {},
   "outputs": [],
   "source": [
    "len(edge_list[(0,0)])"
   ]
  },
  {
   "cell_type": "code",
   "execution_count": null,
   "metadata": {},
   "outputs": [],
   "source": [
    "import random\n",
    "\n",
    "G = nx.gnp_random_graph(7,1)\n",
    "for u,v,d in G.edges(data=True):\n",
    "    d['weight'] = np.maximum(0, -1*low_ + round(edge_list[(u,v)], 2))\n",
    "\n",
    "edges,weights = zip(*nx.get_edge_attributes(G,'weight').items())\n",
    "\n",
    "pos = nx.spring_layout(G)\n",
    "nx.draw(G, pos, node_color='y', edgelist=edges, edge_color=weights, width=10.0, edge_cmap=plt.cm.Reds, with_label=True)\n",
    "nx.draw_networkx_labels(G, pos, font_size=20, font_family='sans-serif')\n",
    "# nx.draw_networkx_edge_labels(G,pos, font_size=10)\n",
    "plt.savefig('edges.png')\n",
    "\n",
    "for u, v, d in G.edges(data=True):\n",
    "    print(u,v, '  :  ', d)"
   ]
  },
  {
   "cell_type": "code",
   "execution_count": null,
   "metadata": {},
   "outputs": [],
   "source": []
  }
 ],
 "metadata": {
  "kernelspec": {
   "display_name": "Python 3",
   "language": "python",
   "name": "python3"
  },
  "language_info": {
   "codemirror_mode": {
    "name": "ipython",
    "version": 3
   },
   "file_extension": ".py",
   "mimetype": "text/x-python",
   "name": "python",
   "nbconvert_exporter": "python",
   "pygments_lexer": "ipython3",
   "version": "3.6.8"
  },
  "latex_envs": {
   "LaTeX_envs_menu_present": true,
   "autoclose": true,
   "autocomplete": true,
   "bibliofile": "biblio.bib",
   "cite_by": "apalike",
   "current_citInitial": 1,
   "eqLabelWithNumbers": true,
   "eqNumInitial": 1,
   "hotkeys": {
    "equation": "Ctrl-E",
    "itemize": "Ctrl-I"
   },
   "labels_anchors": false,
   "latex_user_defs": false,
   "report_style_numbering": false,
   "user_envs_cfg": false
  },
  "toc": {
   "base_numbering": 1,
   "nav_menu": {},
   "number_sections": true,
   "sideBar": true,
   "skip_h1_title": false,
   "title_cell": "Table of Contents",
   "title_sidebar": "Contents",
   "toc_cell": false,
   "toc_position": {},
   "toc_section_display": true,
   "toc_window_display": false
  }
 },
 "nbformat": 4,
 "nbformat_minor": 2
}
