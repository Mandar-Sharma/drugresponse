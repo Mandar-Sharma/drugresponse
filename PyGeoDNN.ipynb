{
 "cells": [
  {
   "cell_type": "code",
   "execution_count": 1,
   "metadata": {},
   "outputs": [],
   "source": [
    "# from tqdm import tqdm\n",
    "import pandas as pd\n",
    "import numpy as np\n",
    "from random import shuffle\n",
    "import pickle"
   ]
  },
  {
   "cell_type": "code",
   "execution_count": 2,
   "metadata": {},
   "outputs": [],
   "source": [
    "import torch\n",
    "from torch import optim\n",
    "from torch.autograd import Variable,gradcheck\n",
    "from torch.utils.data import DataLoader\n",
    "\n",
    "# sklearn\n",
    "from sklearn.model_selection import train_test_split\n",
    "from sklearn.preprocessing import MinMaxScaler\n",
    "from sklearn.preprocessing import StandardScaler\n",
    "from sklearn.metrics import r2_score"
   ]
  },
  {
   "cell_type": "code",
   "execution_count": 3,
   "metadata": {},
   "outputs": [],
   "source": [
    "sing = pd.read_csv('wooddata/singleton.csv')\n",
    "pair = pd.read_csv('wooddata/pair.csv')\n",
    "trip = pd.read_csv('wooddata/triplet.csv')"
   ]
  },
  {
   "cell_type": "markdown",
   "metadata": {},
   "source": [
    "## Inspection"
   ]
  },
  {
   "cell_type": "code",
   "execution_count": 4,
   "metadata": {},
   "outputs": [],
   "source": [
    "x_sing = sing[['[Sal]', '[Ery]', '[Cm]', '[Tmp]', '[Ofl]', '[Dox]', '[Linc]']].values\n",
    "x_pair = pair[['[Sal]', '[Ery]', '[Cm]', '[Tmp]', '[Ofl]', '[Dox]', '[Linc]']].values\n",
    "x_trip = trip[['[Sal]', '[Ery]', '[Cm]', '[Tmp]', '[Ofl]', '[Dox]', '[Linc]']].values\n",
    "x = np.concatenate((x_sing, x_pair, x_trip), axis=0)\n",
    "y_sing = sing['g'].values\n",
    "y_pair = pair['g'].values\n",
    "y_trip = trip['g'].values\n",
    "y = np.concatenate((y_sing, y_pair, y_trip), axis=0)"
   ]
  },
  {
   "cell_type": "code",
   "execution_count": null,
   "metadata": {},
   "outputs": [],
   "source": [
    "with open('embeddings', 'rb') as handle:\n",
    "    edge_vals = pickle.load(handle)"
   ]
  },
  {
   "cell_type": "code",
   "execution_count": 5,
   "metadata": {},
   "outputs": [
    {
     "data": {
      "text/plain": [
       "(1460, 1460)"
      ]
     },
     "execution_count": 5,
     "metadata": {},
     "output_type": "execute_result"
    }
   ],
   "source": [
    "from DNN import DNN\n",
    "\n",
    "# split dataset\n",
    "X_train, X_test, y_train, y_test = train_test_split(x, y, test_size=0.50)\n",
    "#X_val, X_test, y_val, y_test = train_test_split(X_test, y_test, test_size=0.50)\n",
    "\n",
    "len(X_train), len(X_test)"
   ]
  },
  {
   "cell_type": "code",
   "execution_count": 6,
   "metadata": {},
   "outputs": [
    {
     "name": "stdout",
     "output_type": "stream",
     "text": [
      "438\n",
      "438\n"
     ]
    }
   ],
   "source": [
    "#Percent of training set\n",
    "# one_tenth_length = int(len(X_train) * 0.1)\n",
    "# X_train = X_train[:one_tenth_length * 3]\n",
    "# y_train = y_train[:one_tenth_length * 3]\n",
    "# print(len(X_train))\n",
    "# print(len(y_train))"
   ]
  },
  {
   "cell_type": "code",
   "execution_count": 7,
   "metadata": {},
   "outputs": [],
   "source": [
    "# normalize on training set and apply to test set\n",
    "std_scaler_x = StandardScaler()\n",
    "std_scaler_y = StandardScaler()\n",
    "\n",
    "# fit and transform on training set\n",
    "X_train = std_scaler_x.fit_transform(X_train)\n",
    "y_train = std_scaler_y.fit_transform(\n",
    "    y_train[:, np.newaxis]\n",
    ").ravel()\n",
    "\n",
    "# apply transformation on validation set\n",
    "# X_val = std_scaler_x.transform(X_val)\n",
    "# y_val = std_scaler_y.transform(\n",
    "#     y_val[:, np.newaxis]\n",
    "# ).ravel()\n",
    "\n",
    "# apply transformation on test set\n",
    "X_test = std_scaler_x.transform(X_test)\n",
    "y_test = std_scaler_y.transform(\n",
    "    y_test[:, np.newaxis]\n",
    ").ravel()"
   ]
  },
  {
   "cell_type": "code",
   "execution_count": 8,
   "metadata": {},
   "outputs": [
    {
     "name": "stdout",
     "output_type": "stream",
     "text": [
      "CPU times: user 4.54 ms, sys: 236 µs, total: 4.78 ms\n",
      "Wall time: 3.98 ms\n"
     ]
    }
   ],
   "source": [
    "%%time\n",
    "# CUDA support \n",
    "if torch.cuda.is_available():\n",
    "    device = torch.device('cuda')\n",
    "else:\n",
    "    device = torch.device('cpu')\n",
    "\n",
    "# model settings\n",
    "D_in  = X_train.shape[1]\n",
    "D_out = 1\n",
    "H = 50\n",
    "Depth = 5\n",
    "NUMEPOCHS = 500\n",
    "Batch_size = 100\n",
    "\n",
    "model = DNN(\n",
    "    input_size=D_in,\n",
    "    output_size=D_out,\n",
    "    hidden_size=H,\n",
    "    depth=Depth\n",
    ").to(device)\n",
    "\n",
    "# Loss Function\n",
    "criterion = torch.nn.MSELoss()\n",
    "\n",
    "# Optimizer\n",
    "optimizer = optim.Adamax(model.parameters())"
   ]
  },
  {
   "cell_type": "code",
   "execution_count": 9,
   "metadata": {},
   "outputs": [
    {
     "name": "stdout",
     "output_type": "stream",
     "text": [
      "torch.Size([438, 7])\n",
      "torch.Size([438])\n",
      "torch.Size([1460, 7])\n",
      "torch.Size([1460])\n"
     ]
    }
   ],
   "source": [
    "# Input Data\n",
    "trainX = Variable(torch.from_numpy(X_train).float())\n",
    "trainY = Variable(torch.from_numpy(y_train).float())\n",
    "testX = Variable(torch.from_numpy(X_test).float())\n",
    "testY = Variable(torch.from_numpy(y_test).float())\n",
    "\n",
    "print(trainX.shape)\n",
    "print(trainY.shape)\n",
    "print(testX.shape)\n",
    "print(testY.shape)\n",
    "\n",
    "# For Supervising Losses\n",
    "losses = list()\n",
    "\n",
    "if torch.cuda.is_available():\n",
    "    trainX = trainX.to(device)\n",
    "    trainY = trainY.to(device)\n",
    "    testX = testX.to(device)\n",
    "    testY = testY.to(device)\n",
    "    \n",
    "data_train_loader = DataLoader(\n",
    "    list(zip(trainX,trainY)), \n",
    "    batch_size=Batch_size, \n",
    "    shuffle=True\n",
    ")"
   ]
  },
  {
   "cell_type": "code",
   "execution_count": 10,
   "metadata": {},
   "outputs": [
    {
     "name": "stdout",
     "output_type": "stream",
     "text": [
      "Epochs\n",
      "0, tensor(1.0671, grad_fn=<MseLossBackward>)\n",
      "50, tensor(0.0842, grad_fn=<MseLossBackward>)\n",
      "100, tensor(0.0820, grad_fn=<MseLossBackward>)\n",
      "150, tensor(0.0349, grad_fn=<MseLossBackward>)\n",
      "200, tensor(0.0649, grad_fn=<MseLossBackward>)\n",
      "250, tensor(0.0711, grad_fn=<MseLossBackward>)\n",
      "300, tensor(0.0570, grad_fn=<MseLossBackward>)\n",
      "350, tensor(0.0627, grad_fn=<MseLossBackward>)\n",
      "400, tensor(0.1775, grad_fn=<MseLossBackward>)\n",
      "450, tensor(0.0458, grad_fn=<MseLossBackward>)\n",
      "\n",
      "Training Complete\n",
      "Epochs\n",
      "0, tensor(0.0304, grad_fn=<MseLossBackward>)\n",
      "50, tensor(0.0414, grad_fn=<MseLossBackward>)\n",
      "100, tensor(0.0621, grad_fn=<MseLossBackward>)\n",
      "150, tensor(0.0784, grad_fn=<MseLossBackward>)\n",
      "200, tensor(0.0322, grad_fn=<MseLossBackward>)\n",
      "250, tensor(0.0402, grad_fn=<MseLossBackward>)\n",
      "300, tensor(0.0352, grad_fn=<MseLossBackward>)\n",
      "350, tensor(0.0678, grad_fn=<MseLossBackward>)\n",
      "400, tensor(0.0451, grad_fn=<MseLossBackward>)\n",
      "450, tensor(0.0280, grad_fn=<MseLossBackward>)\n",
      "\n",
      "Training Complete\n",
      "Epochs\n",
      "0, tensor(0.0319, grad_fn=<MseLossBackward>)\n",
      "50, tensor(0.0344, grad_fn=<MseLossBackward>)\n",
      "100, tensor(0.0407, grad_fn=<MseLossBackward>)\n",
      "150, tensor(0.0208, grad_fn=<MseLossBackward>)\n",
      "200, tensor(0.0453, grad_fn=<MseLossBackward>)\n",
      "250, tensor(0.0359, grad_fn=<MseLossBackward>)\n",
      "300, tensor(0.0380, grad_fn=<MseLossBackward>)\n",
      "350, tensor(0.0442, grad_fn=<MseLossBackward>)\n",
      "400, tensor(0.0784, grad_fn=<MseLossBackward>)\n",
      "450, tensor(0.0715, grad_fn=<MseLossBackward>)\n",
      "\n",
      "Training Complete\n",
      "Epochs\n",
      "0, tensor(0.0075, grad_fn=<MseLossBackward>)\n",
      "50, tensor(0.0441, grad_fn=<MseLossBackward>)\n",
      "100, tensor(0.0238, grad_fn=<MseLossBackward>)\n",
      "150, tensor(0.0161, grad_fn=<MseLossBackward>)\n",
      "200, tensor(0.0341, grad_fn=<MseLossBackward>)\n",
      "250, tensor(0.0171, grad_fn=<MseLossBackward>)\n",
      "300, tensor(0.0356, grad_fn=<MseLossBackward>)\n",
      "350, tensor(0.0199, grad_fn=<MseLossBackward>)\n",
      "400, tensor(0.0210, grad_fn=<MseLossBackward>)\n",
      "450, tensor(0.0247, grad_fn=<MseLossBackward>)\n",
      "\n",
      "Training Complete\n",
      "Epochs\n",
      "0, tensor(0.0236, grad_fn=<MseLossBackward>)\n",
      "50, tensor(0.0235, grad_fn=<MseLossBackward>)\n",
      "100, tensor(0.0329, grad_fn=<MseLossBackward>)\n",
      "150, tensor(0.0148, grad_fn=<MseLossBackward>)\n",
      "200, tensor(0.0197, grad_fn=<MseLossBackward>)\n",
      "250, tensor(0.0242, grad_fn=<MseLossBackward>)\n",
      "300, tensor(0.0319, grad_fn=<MseLossBackward>)\n",
      "350, tensor(0.0136, grad_fn=<MseLossBackward>)\n",
      "400, tensor(0.0154, grad_fn=<MseLossBackward>)\n",
      "450, tensor(0.0191, grad_fn=<MseLossBackward>)\n",
      "\n",
      "Training Complete\n",
      "Epochs\n",
      "0, tensor(0.0155, grad_fn=<MseLossBackward>)\n",
      "50, tensor(0.0316, grad_fn=<MseLossBackward>)\n",
      "100, tensor(0.0180, grad_fn=<MseLossBackward>)\n",
      "150, tensor(0.0100, grad_fn=<MseLossBackward>)\n",
      "200, tensor(0.0119, grad_fn=<MseLossBackward>)\n",
      "250, tensor(0.0265, grad_fn=<MseLossBackward>)\n",
      "300, tensor(0.0097, grad_fn=<MseLossBackward>)\n",
      "350, tensor(0.0139, grad_fn=<MseLossBackward>)\n",
      "400, tensor(0.0049, grad_fn=<MseLossBackward>)\n",
      "450, tensor(0.0098, grad_fn=<MseLossBackward>)\n",
      "\n",
      "Training Complete\n",
      "Epochs\n",
      "0, tensor(0.0129, grad_fn=<MseLossBackward>)\n",
      "50, tensor(0.0067, grad_fn=<MseLossBackward>)\n",
      "100, tensor(0.0126, grad_fn=<MseLossBackward>)\n",
      "150, tensor(0.0186, grad_fn=<MseLossBackward>)\n",
      "200, tensor(0.0210, grad_fn=<MseLossBackward>)\n",
      "250, tensor(0.0099, grad_fn=<MseLossBackward>)\n",
      "300, tensor(0.0059, grad_fn=<MseLossBackward>)\n",
      "350, tensor(0.0092, grad_fn=<MseLossBackward>)\n",
      "400, tensor(0.0036, grad_fn=<MseLossBackward>)\n",
      "450, tensor(0.0058, grad_fn=<MseLossBackward>)\n",
      "\n",
      "Training Complete\n",
      "Epochs\n",
      "0, tensor(0.0059, grad_fn=<MseLossBackward>)\n",
      "50, tensor(0.0065, grad_fn=<MseLossBackward>)\n",
      "100, tensor(0.0103, grad_fn=<MseLossBackward>)\n",
      "150, tensor(0.0092, grad_fn=<MseLossBackward>)\n",
      "200, tensor(0.0077, grad_fn=<MseLossBackward>)\n",
      "250, tensor(0.0103, grad_fn=<MseLossBackward>)\n",
      "300, tensor(0.0070, grad_fn=<MseLossBackward>)\n",
      "350, tensor(0.0052, grad_fn=<MseLossBackward>)\n",
      "400, tensor(0.0054, grad_fn=<MseLossBackward>)\n",
      "450, tensor(0.0056, grad_fn=<MseLossBackward>)\n",
      "\n",
      "Training Complete\n",
      "Epochs\n",
      "0, tensor(0.0051, grad_fn=<MseLossBackward>)\n",
      "50, tensor(0.0046, grad_fn=<MseLossBackward>)\n",
      "100, tensor(0.0051, grad_fn=<MseLossBackward>)\n",
      "150, tensor(0.0090, grad_fn=<MseLossBackward>)\n",
      "200, tensor(0.0028, grad_fn=<MseLossBackward>)\n",
      "250, tensor(0.0046, grad_fn=<MseLossBackward>)\n",
      "300, tensor(0.0039, grad_fn=<MseLossBackward>)\n",
      "350, tensor(0.0026, grad_fn=<MseLossBackward>)\n",
      "400, tensor(0.0026, grad_fn=<MseLossBackward>)\n",
      "450, tensor(0.0037, grad_fn=<MseLossBackward>)\n",
      "\n",
      "Training Complete\n",
      "Epochs\n",
      "0, tensor(0.0015, grad_fn=<MseLossBackward>)\n",
      "50, tensor(0.0040, grad_fn=<MseLossBackward>)\n",
      "100, tensor(0.0015, grad_fn=<MseLossBackward>)\n",
      "150, tensor(0.0048, grad_fn=<MseLossBackward>)\n",
      "200, tensor(0.0021, grad_fn=<MseLossBackward>)\n",
      "250, tensor(0.0030, grad_fn=<MseLossBackward>)\n",
      "300, tensor(0.0044, grad_fn=<MseLossBackward>)\n",
      "350, tensor(0.0029, grad_fn=<MseLossBackward>)\n",
      "400, tensor(0.0034, grad_fn=<MseLossBackward>)\n",
      "450, tensor(0.0042, grad_fn=<MseLossBackward>)\n",
      "\n",
      "Training Complete\n"
     ]
    }
   ],
   "source": [
    "# Train the model\n",
    "mse = []\n",
    "r2 = []\n",
    "for i in range(10):\n",
    "    print(\"Epochs\")\n",
    "    for epoch in range(NUMEPOCHS):\n",
    "        for batchX, batchY in data_train_loader: \n",
    "            # Forward pass\n",
    "            outputs = model(batchX)\n",
    "            loss = criterion(outputs.squeeze(), batchY)\n",
    "\n",
    "            # Backward and optimize\n",
    "            optimizer.zero_grad()\n",
    "            loss.backward()     \n",
    "            optimizer.step()\n",
    "            losses.append(loss)\n",
    "\n",
    "        # Print Epochs and Losses to Monitor Convergence\n",
    "        if epoch % 50 == 0:\n",
    "            print(\"{}\".format(epoch),end = \", \")\n",
    "            print(loss)\n",
    "\n",
    "    print('\\nTraining Complete')\n",
    "    pred = model(testX)\n",
    "    predictions = pred.detach().cpu().numpy().ravel()\n",
    "    testvals = testY.cpu().numpy()\n",
    "    predictions = std_scaler_y.inverse_transform(predictions[:, np.newaxis]).ravel()\n",
    "    testvals = std_scaler_y.inverse_transform(testvals[:, np.newaxis]).ravel()\n",
    "    mse.append(np.mean((predictions - testvals) ** 2))\n",
    "    r2.append(r2_score(testvals,predictions))"
   ]
  },
  {
   "cell_type": "code",
   "execution_count": 11,
   "metadata": {},
   "outputs": [
    {
     "data": {
      "text/plain": [
       "0.9006357863794557"
      ]
     },
     "execution_count": 11,
     "metadata": {},
     "output_type": "execute_result"
    }
   ],
   "source": [
    "np.mean(r2)"
   ]
  },
  {
   "cell_type": "code",
   "execution_count": 12,
   "metadata": {},
   "outputs": [
    {
     "data": {
      "text/plain": [
       "0.004929027"
      ]
     },
     "execution_count": 12,
     "metadata": {},
     "output_type": "execute_result"
    }
   ],
   "source": [
    "np.mean(mse)"
   ]
  }
 ],
 "metadata": {
  "kernelspec": {
   "display_name": "Python 3",
   "language": "python",
   "name": "python3"
  },
  "language_info": {
   "codemirror_mode": {
    "name": "ipython",
    "version": 3
   },
   "file_extension": ".py",
   "mimetype": "text/x-python",
   "name": "python",
   "nbconvert_exporter": "python",
   "pygments_lexer": "ipython3",
   "version": "3.6.8"
  }
 },
 "nbformat": 4,
 "nbformat_minor": 2
}
