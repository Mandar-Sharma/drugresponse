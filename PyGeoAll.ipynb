{
  "nbformat": 4,
  "nbformat_minor": 0,
  "metadata": {
    "kernelspec": {
      "name": "python3",
      "display_name": "Python 3"
    },
    "language_info": {
      "codemirror_mode": {
        "name": "ipython",
        "version": 3
      },
      "file_extension": ".py",
      "mimetype": "text/x-python",
      "name": "python",
      "nbconvert_exporter": "python",
      "pygments_lexer": "ipython3",
      "version": "3.6.7"
    },
    "colab": {
      "name": "PyGeoAll.ipynb",
      "provenance": [],
      "toc_visible": true
    },
    "accelerator": "GPU"
  },
  "cells": [
    {
      "cell_type": "code",
      "metadata": {
        "id": "k_VqhEZpwrDj",
        "colab_type": "code",
        "colab": {}
      },
      "source": [
        "# from tqdm import tqdm\n",
        "import pandas as pd\n",
        "import networkx as nx\n",
        "import numpy as np\n",
        "from random import shuffle\n",
        "import pickle"
      ],
      "execution_count": 0,
      "outputs": []
    },
    {
      "cell_type": "code",
      "metadata": {
        "id": "PAggxVjNw2Ra",
        "colab_type": "code",
        "outputId": "7f4b92fc-1022-43fb-b4fc-ff07e0a83da5",
        "colab": {
          "base_uri": "https://localhost:8080/",
          "height": 1000
        }
      },
      "source": [
        "!pip install torch-scatter\n",
        "!pip install torch-sparse\n",
        "!pip install torch-cluster\n",
        "!pip install torch-geometric"
      ],
      "execution_count": 0,
      "outputs": [
        {
          "output_type": "stream",
          "text": [
            "Collecting torch-scatter\n",
            "  Downloading https://files.pythonhosted.org/packages/30/d9/1d5fd4d183dabd9e0a1f7008ecf83318432359f4cc27480e3f2212f44d9c/torch_scatter-1.3.2.tar.gz\n",
            "Building wheels for collected packages: torch-scatter\n",
            "  Building wheel for torch-scatter (setup.py) ... \u001b[?25l\u001b[?25hdone\n",
            "  Created wheel for torch-scatter: filename=torch_scatter-1.3.2-cp36-cp36m-linux_x86_64.whl size=2723704 sha256=4c1c1bd477f90eca8bc5c2d854a1c95d57411c8826bbc818b81356ee50f0fad9\n",
            "  Stored in directory: /root/.cache/pip/wheels/40/30/07/5400c1a1ec05c5d0d6459fb2179d0e12c7c2f6d3d47987bf10\n",
            "Successfully built torch-scatter\n",
            "Installing collected packages: torch-scatter\n",
            "Successfully installed torch-scatter-1.3.2\n",
            "Collecting torch-sparse\n",
            "  Downloading https://files.pythonhosted.org/packages/08/4e/a268613fa6a92ffbc65b89e66fc8be5590801937185007f0f7bcb75ea21f/torch_sparse-0.4.3.tar.gz\n",
            "Requirement already satisfied: scipy in /usr/local/lib/python3.6/dist-packages (from torch-sparse) (1.3.1)\n",
            "Requirement already satisfied: numpy>=1.13.3 in /usr/local/lib/python3.6/dist-packages (from scipy->torch-sparse) (1.16.5)\n",
            "Building wheels for collected packages: torch-sparse\n",
            "  Building wheel for torch-sparse (setup.py) ... \u001b[?25l\u001b[?25hdone\n",
            "  Created wheel for torch-sparse: filename=torch_sparse-0.4.3-cp36-cp36m-linux_x86_64.whl size=3553921 sha256=3b622244267aa1116f8b94ad23e00a7d386bcf879e39444e67b7bcada57a0438\n",
            "  Stored in directory: /root/.cache/pip/wheels/02/66/2b/befece01c2516f9fb3e7b4d150bb2b871221c73657c9cd7735\n",
            "Successfully built torch-sparse\n",
            "Installing collected packages: torch-sparse\n",
            "Successfully installed torch-sparse-0.4.3\n",
            "Collecting torch-cluster\n",
            "  Downloading https://files.pythonhosted.org/packages/c3/70/1d827d6fd1e03bb5ae84852dd0070c6574105c37e7b935284f6e990932db/torch_cluster-1.4.5.tar.gz\n",
            "Requirement already satisfied: scipy in /usr/local/lib/python3.6/dist-packages (from torch-cluster) (1.3.1)\n",
            "Requirement already satisfied: numpy>=1.13.3 in /usr/local/lib/python3.6/dist-packages (from scipy->torch-cluster) (1.16.5)\n",
            "Building wheels for collected packages: torch-cluster\n",
            "  Building wheel for torch-cluster (setup.py) ... \u001b[?25l\u001b[?25hdone\n",
            "  Created wheel for torch-cluster: filename=torch_cluster-1.4.5-cp36-cp36m-linux_x86_64.whl size=14447197 sha256=6df947030a3955309de04a1080ee21159b95ff7442e8626405d81fe52f90db1c\n",
            "  Stored in directory: /root/.cache/pip/wheels/0a/26/7e/a6d6a80eae5ca39b92bc77773f36cf433d5085de18014382b1\n",
            "Successfully built torch-cluster\n",
            "Installing collected packages: torch-cluster\n",
            "Successfully installed torch-cluster-1.4.5\n",
            "Collecting torch-geometric\n",
            "\u001b[?25l  Downloading https://files.pythonhosted.org/packages/f3/50/0a802f0bfa68058bf025d219ec6fbe806a5b891bba6702e28be7b83679fb/torch_geometric-1.3.2.tar.gz (126kB)\n",
            "\u001b[K     |████████████████████████████████| 133kB 2.5MB/s \n",
            "\u001b[?25hRequirement already satisfied: numpy in /usr/local/lib/python3.6/dist-packages (from torch-geometric) (1.16.5)\n",
            "Requirement already satisfied: scipy in /usr/local/lib/python3.6/dist-packages (from torch-geometric) (1.3.1)\n",
            "Requirement already satisfied: networkx in /usr/local/lib/python3.6/dist-packages (from torch-geometric) (2.3)\n",
            "Requirement already satisfied: scikit-learn in /usr/local/lib/python3.6/dist-packages (from torch-geometric) (0.21.3)\n",
            "Requirement already satisfied: requests in /usr/local/lib/python3.6/dist-packages (from torch-geometric) (2.21.0)\n",
            "Collecting plyfile (from torch-geometric)\n",
            "  Downloading https://files.pythonhosted.org/packages/4c/15/434d1d96f9a41fea56cb3290718123d651c56c4b7e53f0249acaf1bf34b6/plyfile-0.7.1.tar.gz\n",
            "Requirement already satisfied: pandas in /usr/local/lib/python3.6/dist-packages (from torch-geometric) (0.24.2)\n",
            "Collecting rdflib (from torch-geometric)\n",
            "\u001b[?25l  Downloading https://files.pythonhosted.org/packages/3c/fe/630bacb652680f6d481b9febbb3e2c3869194a1a5fc3401a4a41195a2f8f/rdflib-4.2.2-py3-none-any.whl (344kB)\n",
            "\u001b[K     |████████████████████████████████| 348kB 40.2MB/s \n",
            "\u001b[?25hRequirement already satisfied: h5py in /usr/local/lib/python3.6/dist-packages (from torch-geometric) (2.8.0)\n",
            "Requirement already satisfied: googledrivedownloader in /usr/local/lib/python3.6/dist-packages (from torch-geometric) (0.4)\n",
            "Requirement already satisfied: decorator>=4.3.0 in /usr/local/lib/python3.6/dist-packages (from networkx->torch-geometric) (4.4.0)\n",
            "Requirement already satisfied: joblib>=0.11 in /usr/local/lib/python3.6/dist-packages (from scikit-learn->torch-geometric) (0.14.0)\n",
            "Requirement already satisfied: certifi>=2017.4.17 in /usr/local/lib/python3.6/dist-packages (from requests->torch-geometric) (2019.9.11)\n",
            "Requirement already satisfied: idna<2.9,>=2.5 in /usr/local/lib/python3.6/dist-packages (from requests->torch-geometric) (2.8)\n",
            "Requirement already satisfied: chardet<3.1.0,>=3.0.2 in /usr/local/lib/python3.6/dist-packages (from requests->torch-geometric) (3.0.4)\n",
            "Requirement already satisfied: urllib3<1.25,>=1.21.1 in /usr/local/lib/python3.6/dist-packages (from requests->torch-geometric) (1.24.3)\n",
            "Requirement already satisfied: python-dateutil>=2.5.0 in /usr/local/lib/python3.6/dist-packages (from pandas->torch-geometric) (2.5.3)\n",
            "Requirement already satisfied: pytz>=2011k in /usr/local/lib/python3.6/dist-packages (from pandas->torch-geometric) (2018.9)\n",
            "Requirement already satisfied: pyparsing in /usr/local/lib/python3.6/dist-packages (from rdflib->torch-geometric) (2.4.2)\n",
            "Collecting isodate (from rdflib->torch-geometric)\n",
            "\u001b[?25l  Downloading https://files.pythonhosted.org/packages/9b/9f/b36f7774ff5ea8e428fdcfc4bb332c39ee5b9362ddd3d40d9516a55221b2/isodate-0.6.0-py2.py3-none-any.whl (45kB)\n",
            "\u001b[K     |████████████████████████████████| 51kB 20.2MB/s \n",
            "\u001b[?25hRequirement already satisfied: six in /usr/local/lib/python3.6/dist-packages (from h5py->torch-geometric) (1.12.0)\n",
            "Building wheels for collected packages: torch-geometric, plyfile\n",
            "  Building wheel for torch-geometric (setup.py) ... \u001b[?25l\u001b[?25hdone\n",
            "  Created wheel for torch-geometric: filename=torch_geometric-1.3.2-cp36-none-any.whl size=203339 sha256=8ac8d8d7b35b68ba63d2fdae4433990a198f3bb44a81a5428f274c1d1b95c76f\n",
            "  Stored in directory: /root/.cache/pip/wheels/f7/75/0a/56a0fd58efac6d990782523e20e61c9307fc42c31564d40348\n",
            "  Building wheel for plyfile (setup.py) ... \u001b[?25l\u001b[?25hdone\n",
            "  Created wheel for plyfile: filename=plyfile-0.7.1-cp36-none-any.whl size=32827 sha256=7c5919cf78e8400ce5a99919323f340a4aff017d113b482213dca8c9a3082dc8\n",
            "  Stored in directory: /root/.cache/pip/wheels/d6/0d/bf/6d603d81b98604d2ecfd5e99d4ab7c9af664fd5285ab82bbb0\n",
            "Successfully built torch-geometric plyfile\n",
            "Installing collected packages: plyfile, isodate, rdflib, torch-geometric\n",
            "Successfully installed isodate-0.6.0 plyfile-0.7.1 rdflib-4.2.2 torch-geometric-1.3.2\n"
          ],
          "name": "stdout"
        }
      ]
    },
    {
      "cell_type": "code",
      "metadata": {
        "id": "Q1hEGrUzwrDm",
        "colab_type": "code",
        "colab": {}
      },
      "source": [
        "import torch\n",
        "from torch_geometric.data import Data\n",
        "from torch_geometric.data import InMemoryDataset\n",
        "from torch_geometric.data import DataLoader\n",
        "import torch.nn.functional as F\n",
        "from torch_geometric.nn import GCNConv, NNConv\n",
        "import torch.nn as nn\n",
        "import matplotlib.pyplot as plt"
      ],
      "execution_count": 0,
      "outputs": []
    },
    {
      "cell_type": "code",
      "metadata": {
        "id": "cHYbbQa-wrDp",
        "colab_type": "code",
        "colab": {}
      },
      "source": [
        "sing = pd.read_csv('singleton.csv')\n",
        "pair = pd.read_csv('pair.csv')\n",
        "trip = pd.read_csv('triplet.csv')"
      ],
      "execution_count": 0,
      "outputs": []
    },
    {
      "cell_type": "markdown",
      "metadata": {
        "id": "jkxrL_p4wrDr",
        "colab_type": "text"
      },
      "source": [
        "## Inspection"
      ]
    },
    {
      "cell_type": "code",
      "metadata": {
        "id": "0wBmxpwQwrDs",
        "colab_type": "code",
        "colab": {}
      },
      "source": [
        "with open('embeddings', 'rb') as handle:\n",
        "    edge_vals = pickle.load(handle)"
      ],
      "execution_count": 0,
      "outputs": []
    },
    {
      "cell_type": "code",
      "metadata": {
        "id": "r2zlCM6vwrDu",
        "colab_type": "code",
        "colab": {}
      },
      "source": [
        "#create edgeindex\n",
        "G = nx.Graph()\n",
        "first = []\n",
        "sec = []\n",
        "edge_feats = []\n",
        "for i in range(7):\n",
        "    for j in range(7):\n",
        "        if i != j:\n",
        "            first.append(i)\n",
        "            sec.append(j)\n",
        "            G.add_edge(i,j)\n",
        "            edge_feats.append(edge_vals['(%d, %d)' % (i,j)])\n",
        "edgeindex = [first, sec]"
      ],
      "execution_count": 0,
      "outputs": []
    },
    {
      "cell_type": "markdown",
      "metadata": {
        "id": "8tYamT9YwrDw",
        "colab_type": "text"
      },
      "source": [
        "## Visualization"
      ]
    },
    {
      "cell_type": "code",
      "metadata": {
        "id": "FmTvrQSGwrDx",
        "colab_type": "code",
        "outputId": "540ece91-1154-46f3-9020-b562c38ac689",
        "colab": {
          "base_uri": "https://localhost:8080/",
          "height": 319
        }
      },
      "source": [
        "#Check graph\n",
        "\n",
        "fig = nx.draw(G)\n",
        "plt.show()"
      ],
      "execution_count": 0,
      "outputs": [
        {
          "output_type": "display_data",
          "data": {
            "image/png": "[encoded data removed]",
            "text/plain": [
              "<Figure size 432x288 with 1 Axes>"
            ]
          },
          "metadata": {
            "tags": []
          }
        }
      ]
    },
    {
      "cell_type": "markdown",
      "metadata": {
        "id": "6CZXOIH4wrD0",
        "colab_type": "text"
      },
      "source": [
        "# Create Graph"
      ]
    },
    {
      "cell_type": "code",
      "metadata": {
        "id": "FsSW7ND9wrD1",
        "colab_type": "code",
        "colab": {}
      },
      "source": [
        "sing = sing.drop(columns=['TableInfo'])\n",
        "pair = pair.drop(columns=['TableInfo'])\n",
        "trip = trip.drop(columns=['TableInfo'])\n",
        "\n",
        "#For Singletons\n",
        "singvals = sing.values.tolist()\n",
        "pairvals = pair.values.tolist()\n",
        "tripvals = trip.values.tolist()"
      ],
      "execution_count": 0,
      "outputs": []
    },
    {
      "cell_type": "code",
      "metadata": {
        "id": "k8KlifF8zMs-",
        "colab_type": "code",
        "outputId": "6781f5d2-0210-449a-a162-cb407b98af84",
        "colab": {
          "base_uri": "https://localhost:8080/",
          "height": 34
        }
      },
      "source": [
        "torch.cuda.is_available()"
      ],
      "execution_count": 0,
      "outputs": [
        {
          "output_type": "execute_result",
          "data": {
            "text/plain": [
              "True"
            ]
          },
          "metadata": {
            "tags": []
          },
          "execution_count": 10
        }
      ]
    },
    {
      "cell_type": "code",
      "metadata": {
        "id": "NBsNX8d-wrD2",
        "colab_type": "code",
        "colab": {}
      },
      "source": [
        "data_list = []\n",
        "\n",
        "if torch.cuda.is_available():\n",
        "    device = torch.device('cuda')\n",
        "else:\n",
        "    device = torch.device('cpu')\n",
        "\n",
        "#For Singletons\n",
        "for i in singvals:\n",
        "    node_features = torch.tensor(np.c_[i[:-1]], dtype=torch.float)\n",
        "    edge_index = torch.tensor(edgeindex, dtype=torch.long)\n",
        "    x = node_features\n",
        "    y = torch.ones(x.shape[0], 1) * np.c_[i[-1]].ravel()[0]\n",
        "    edge_features = torch.tensor(np.c_[edge_feats], dtype=torch.float)\n",
        "    data = Data(x=x, edge_index=edge_index,edge_attr = edge_features, y=y).to(device)\n",
        "    data_list.append(data)\n",
        "\n",
        "for i in pairvals:\n",
        "    node_features = torch.tensor(np.c_[i[:-1]], dtype=torch.float)\n",
        "    edge_index = torch.tensor(edgeindex, dtype=torch.long)\n",
        "    x = node_features\n",
        "    y = torch.ones(x.shape[0], 1) * np.c_[i[-1]].ravel()[0]\n",
        "    edge_features = torch.tensor(np.c_[edge_feats], dtype=torch.float)\n",
        "    data = Data(x=x, edge_index=edge_index,edge_attr = edge_features, y=y).to(device)\n",
        "    data_list.append(data)\n",
        "\n",
        "for i in tripvals:\n",
        "    node_features = torch.tensor(np.c_[i[:-1]], dtype=torch.float)\n",
        "    edge_index = torch.tensor(edgeindex, dtype=torch.long)\n",
        "    x = node_features\n",
        "    y = torch.ones(x.shape[0], 1) * np.c_[i[-1]].ravel()[0]\n",
        "    edge_features = torch.tensor(np.c_[edge_feats], dtype=torch.float)\n",
        "    data = Data(x=x, edge_index=edge_index,edge_attr = edge_features, y=y).to(device)\n",
        "    data_list.append(data)"
      ],
      "execution_count": 0,
      "outputs": []
    },
    {
      "cell_type": "code",
      "metadata": {
        "id": "UB2MOpMJwrD4",
        "colab_type": "code",
        "outputId": "185f88c9-15a3-49e9-d7e4-92c119e54164",
        "colab": {
          "base_uri": "https://localhost:8080/",
          "height": 34
        }
      },
      "source": [
        "#Split into Training, Test and Val\n",
        "\n",
        "#Shuffle data\n",
        "shuffle(data_list)\n",
        "\n",
        "one_tenth_length = int(len(data_list) * 0.1)\n",
        "train_dataset = data_list[:one_tenth_length * 8]\n",
        "val_dataset = data_list[one_tenth_length*8:one_tenth_length * 9]\n",
        "test_dataset = data_list[one_tenth_length*9:]\n",
        "len(train_dataset), len(val_dataset), len(test_dataset)"
      ],
      "execution_count": 0,
      "outputs": [
        {
          "output_type": "execute_result",
          "data": {
            "text/plain": [
              "(2336, 292, 292)"
            ]
          },
          "metadata": {
            "tags": []
          },
          "execution_count": 12
        }
      ]
    },
    {
      "cell_type": "code",
      "metadata": {
        "id": "DGQAK6FZwrD7",
        "colab_type": "code",
        "colab": {}
      },
      "source": [
        "batch_size= 32\n",
        "train_loader = DataLoader(train_dataset, batch_size=batch_size, shuffle=True)\n",
        "val_loader = DataLoader(val_dataset, batch_size=batch_size, shuffle=True)\n",
        "test_loader = DataLoader(test_dataset, batch_size=batch_size, shuffle=True)"
      ],
      "execution_count": 0,
      "outputs": []
    },
    {
      "cell_type": "code",
      "metadata": {
        "id": "OZOGZVDJwrD-",
        "colab_type": "code",
        "colab": {}
      },
      "source": [
        "# ECConv convolutional network\n",
        "class Net(torch.nn.Module):\n",
        "    def __init__(self, input_dim, output_dim, edge_dim):\n",
        "        super(Net, self).__init__()\n",
        "        \n",
        "        in_channel = 10\n",
        "        out_channel = 10\n",
        "        edge_nn_channel = 10\n",
        "        edge_features = edge_dim\n",
        "        \n",
        "        self.input_layer = torch.nn.Sequential(\n",
        "            torch.nn.Linear(input_dim, in_channel),\n",
        "            torch.nn.ELU()\n",
        "        )\n",
        "        \n",
        "        # edge condition network #1\n",
        "        self.nn1 = torch.nn.Sequential(\n",
        "            torch.nn.Linear(edge_features, edge_nn_channel),\n",
        "            torch.nn.ELU(),\n",
        "            torch.nn.Linear(edge_nn_channel, in_channel * out_channel),\n",
        "            torch.nn.Tanh()\n",
        "        )\n",
        "        \n",
        "        # edge condition network #2\n",
        "        self.nn2 = torch.nn.Sequential(\n",
        "            torch.nn.Linear(edge_features, edge_nn_channel),\n",
        "            torch.nn.ELU(),\n",
        "            torch.nn.Linear(edge_nn_channel, out_channel * out_channel),\n",
        "            torch.nn.Tanh()\n",
        "        )\n",
        "        \n",
        "        self.conv1 = NNConv(in_channel, out_channel, self.nn1, aggr='mean')\n",
        "        self.conv2 = NNConv(out_channel, out_channel, self.nn2, aggr='mean')\n",
        "        \n",
        "        self.act1 = torch.nn.ELU()\n",
        "        self.act2 = torch.nn.ELU()\n",
        "        \n",
        "        self.output_layer = torch.nn.Sequential(\n",
        "            torch.nn.Linear(out_channel, output_dim)\n",
        "        )\n",
        "        \n",
        "    def forward(self, data):\n",
        "        x, edge_index, edge_attr = data.x, data.edge_index, data.edge_attr\n",
        "        \n",
        "        x = self.input_layer(x)\n",
        "        \n",
        "        x = self.conv1(x, edge_index, edge_attr)\n",
        "        x = self.act1(x)\n",
        "        x = self.conv2(x, edge_index, edge_attr)\n",
        "        x = self.act2(x)\n",
        "        \n",
        "        x = self.output_layer(x)\n",
        "        return x"
      ],
      "execution_count": 0,
      "outputs": []
    },
    {
      "cell_type": "code",
      "metadata": {
        "id": "eEVrlYXKwrEA",
        "colab_type": "code",
        "colab": {}
      },
      "source": [
        "model = Net(1, 1, 1).to(device)\n",
        "optimizer = torch.optim.Adamax(model.parameters())"
      ],
      "execution_count": 0,
      "outputs": []
    },
    {
      "cell_type": "code",
      "metadata": {
        "id": "yYZk2QZLwrEC",
        "colab_type": "code",
        "outputId": "fba13f47-e673-4113-ab30-cd6eb085da06",
        "colab": {
          "base_uri": "https://localhost:8080/",
          "height": 226
        }
      },
      "source": [
        "# To disable tracking losses, please delete this line\n",
        "loss_list = []\n",
        "\n",
        "# model.train()\n",
        "print(\"Epochs\")\n",
        "\n",
        "for epoch in range(5000):\n",
        "    losses = list()\n",
        "\n",
        "    for data in train_loader:\n",
        "        # Forward pass\n",
        "        out = model(data)\n",
        "        loss = F.mse_loss(out, data.y)\n",
        "        \n",
        "        # Backward and optimize\n",
        "        optimizer.zero_grad()\n",
        "        loss.backward()\n",
        "        optimizer.step()\n",
        "        losses.append(\n",
        "            loss.cpu().detach().numpy()\n",
        "        )\n",
        "        \n",
        "    avg_loss = sum(losses)/len(losses)\n",
        "    loss_list.append(avg_loss)\n",
        "    if epoch % 500 == 0:\n",
        "        print('%d, MSE loss = %f' % (epoch, avg_loss))\n",
        "        \n",
        "print('Training Complete')"
      ],
      "execution_count": 0,
      "outputs": [
        {
          "output_type": "stream",
          "text": [
            "Epochs\n",
            "0, MSE loss = 0.067110\n",
            "500, MSE loss = 0.011632\n",
            "1000, MSE loss = 0.008764\n",
            "1500, MSE loss = 0.007277\n",
            "2000, MSE loss = 0.006585\n",
            "2500, MSE loss = 0.006133\n",
            "3000, MSE loss = 0.005706\n",
            "3500, MSE loss = 0.005385\n",
            "4000, MSE loss = 0.005254\n",
            "4500, MSE loss = 0.004953\n",
            "Training Complete\n"
          ],
          "name": "stdout"
        }
      ]
    },
    {
      "cell_type": "code",
      "metadata": {
        "id": "YjjaOXp4wrEE",
        "colab_type": "code",
        "colab": {}
      },
      "source": [
        "pred = []\n",
        "test_val = []\n",
        "for item in data_list:\n",
        "    pred.append(model(item).detach().cpu().numpy()[0][0])\n",
        "    test_val.append(item.y.detach().cpu().numpy()[0][0])\n",
        "predictions = np.array(pred)\n",
        "testvals = np.array(test_val)"
      ],
      "execution_count": 0,
      "outputs": []
    },
    {
      "cell_type": "code",
      "metadata": {
        "id": "xEGR5CuqwrEF",
        "colab_type": "code",
        "outputId": "fe5118d3-bf7b-45b9-c0ed-0df01a4d6739",
        "colab": {}
      },
      "source": [
        "predictions.shape"
      ],
      "execution_count": 0,
      "outputs": [
        {
          "output_type": "execute_result",
          "data": {
            "text/plain": [
              "(152,)"
            ]
          },
          "metadata": {
            "tags": []
          },
          "execution_count": 18
        }
      ]
    },
    {
      "cell_type": "code",
      "metadata": {
        "id": "qDpRzqRdwrEH",
        "colab_type": "code",
        "outputId": "b31d894e-b9d9-4245-e7d4-f08c11648572",
        "colab": {
          "base_uri": "https://localhost:8080/",
          "height": 34
        }
      },
      "source": [
        "mse = np.mean((predictions - testvals) ** 2)\n",
        "print('Test MSE = ', mse)"
      ],
      "execution_count": 0,
      "outputs": [
        {
          "output_type": "stream",
          "text": [
            "Test MSE =  0.004431463\n"
          ],
          "name": "stdout"
        }
      ]
    },
    {
      "cell_type": "code",
      "metadata": {
        "id": "MySUXQvZMZTp",
        "colab_type": "code",
        "outputId": "bab9d6a5-40c1-48fc-9301-dc6f6f44f3dc",
        "colab": {
          "base_uri": "https://localhost:8080/",
          "height": 34
        }
      },
      "source": [
        "from sklearn.metrics import r2_score\n",
        "r2_score(testvals,predictions)"
      ],
      "execution_count": 0,
      "outputs": [
        {
          "output_type": "execute_result",
          "data": {
            "text/plain": [
              "0.9127961203674305"
            ]
          },
          "metadata": {
            "tags": []
          },
          "execution_count": 19
        }
      ]
    },
    {
      "cell_type": "code",
      "metadata": {
        "id": "ZE-9uyTxwrEJ",
        "colab_type": "code",
        "colab": {}
      },
      "source": [
        "import seaborn as sns\n",
        "\n",
        "y_all = pd.DataFrame({\n",
        "    'pred': predictions,\n",
        "    'true': testvals\n",
        "})\n",
        "\n",
        "y_all = y_all.sort_values(by=['true']).reset_index()[['pred', 'true']]"
      ],
      "execution_count": 0,
      "outputs": []
    },
    {
      "cell_type": "code",
      "metadata": {
        "id": "NoINXQ-wwrEM",
        "colab_type": "code",
        "outputId": "84b8f65a-e614-4e13-b046-12f34c6bc81a",
        "colab": {
          "base_uri": "https://localhost:8080/",
          "height": 201
        }
      },
      "source": [
        "sns.lineplot(data=y_all)\n",
        "plt.legend()\n",
        "plt.show()"
      ],
      "execution_count": 0,
      "outputs": [
        {
          "output_type": "error",
          "ename": "NameError",
          "evalue": "ignored",
          "traceback": [
            "\u001b[0;31m---------------------------------------------------------------------------\u001b[0m",
            "\u001b[0;31mNameError\u001b[0m                                 Traceback (most recent call last)",
            "\u001b[0;32m<ipython-input-2-d3f3338e128c>\u001b[0m in \u001b[0;36m<module>\u001b[0;34m()\u001b[0m\n\u001b[0;32m----> 1\u001b[0;31m \u001b[0msns\u001b[0m\u001b[0;34m.\u001b[0m\u001b[0mlineplot\u001b[0m\u001b[0;34m(\u001b[0m\u001b[0mdata\u001b[0m\u001b[0;34m=\u001b[0m\u001b[0my_all\u001b[0m\u001b[0;34m)\u001b[0m\u001b[0;34m\u001b[0m\u001b[0;34m\u001b[0m\u001b[0m\n\u001b[0m\u001b[1;32m      2\u001b[0m \u001b[0mplt\u001b[0m\u001b[0;34m.\u001b[0m\u001b[0mlegend\u001b[0m\u001b[0;34m(\u001b[0m\u001b[0;34m)\u001b[0m\u001b[0;34m\u001b[0m\u001b[0;34m\u001b[0m\u001b[0m\n\u001b[1;32m      3\u001b[0m \u001b[0mplt\u001b[0m\u001b[0;34m.\u001b[0m\u001b[0mshow\u001b[0m\u001b[0;34m(\u001b[0m\u001b[0;34m)\u001b[0m\u001b[0;34m\u001b[0m\u001b[0;34m\u001b[0m\u001b[0m\n",
            "\u001b[0;31mNameError\u001b[0m: name 'sns' is not defined"
          ]
        }
      ]
    }
  ]
}